{
 "cells": [
  {
   "cell_type": "markdown",
   "id": "2a68fa76-7359-4356-ae83-4d4e634c49c0",
   "metadata": {
    "execution": {
     "iopub.execute_input": "2023-05-13T11:39:48.937492Z",
     "iopub.status.busy": "2023-05-13T11:39:48.936940Z",
     "iopub.status.idle": "2023-05-13T11:39:48.943923Z",
     "shell.execute_reply": "2023-05-13T11:39:48.943404Z",
     "shell.execute_reply.started": "2023-05-13T11:39:48.937492Z"
    },
    "tags": []
   },
   "source": [
    "### Load libraries"
   ]
  },
  {
   "cell_type": "code",
   "execution_count": 1,
   "id": "e828b6a3-35a9-4248-891d-f50bf9e16097",
   "metadata": {
    "execution": {
     "iopub.execute_input": "2023-05-13T13:16:47.648792Z",
     "iopub.status.busy": "2023-05-13T13:16:47.648284Z",
     "iopub.status.idle": "2023-05-13T13:16:48.042393Z",
     "shell.execute_reply": "2023-05-13T13:16:48.041499Z",
     "shell.execute_reply.started": "2023-05-13T13:16:47.648792Z"
    },
    "tags": []
   },
   "outputs": [],
   "source": [
    "from datetime import datetime, time, timedelta\n",
    "import random\n",
    "from math import copysign\n",
    "from time import sleep\n",
    "import sys\n",
    "import numpy as np\n",
    "import pandas as pd\n",
    "from xtquant.xtdata import subscribe_quote, get_market_data, unsubscribe_quote, timetag_to_datetime,get_trade_times\n",
    "from xtquant.xttrader import XtQuantTrader, XtQuantTraderCallback\n",
    "from xtquant.xttype import StockAccount\n",
    "from xtquant import xtconstant\n",
    "\n",
    "from myPreparedata import list2csv, func1, account_type_num2str, account_status_num2str, \\\n",
    "    order_status_num2str, get_stock_price, func2, compact_status_num2str\n",
    "from mytrade1 import MyXtQuantTrader, MyXtQuantTraderCallback,get_account_status,on_data, \\\n",
    "    get_order_details,get_trade_details,get_asset_details,get_position_details,get_credit_account_details,\\\n",
    "    get_compact_details,long_portfolio,short_portfolio,get_qty"
   ]
  },
  {
   "cell_type": "markdown",
   "id": "c04a5f2d-6d55-40b9-a67b-66e46cf15964",
   "metadata": {
    "execution": {
     "iopub.execute_input": "2023-05-13T11:56:36.262893Z",
     "iopub.status.busy": "2023-05-13T11:56:36.262893Z",
     "iopub.status.idle": "2023-05-13T11:56:36.283263Z",
     "shell.execute_reply": "2023-05-13T11:56:36.282265Z",
     "shell.execute_reply.started": "2023-05-13T11:56:36.262893Z"
    },
    "tags": []
   },
   "source": [
    "### Register Account"
   ]
  },
  {
   "cell_type": "code",
   "execution_count": 2,
   "id": "aac51e9c-a99b-4c6f-b9e6-d136ae8f3167",
   "metadata": {
    "execution": {
     "iopub.execute_input": "2023-05-13T13:16:48.043416Z",
     "iopub.status.busy": "2023-05-13T13:16:48.043416Z",
     "iopub.status.idle": "2023-05-13T13:16:48.056930Z",
     "shell.execute_reply": "2023-05-13T13:16:48.056930Z",
     "shell.execute_reply.started": "2023-05-13T13:16:48.043416Z"
    },
    "tags": []
   },
   "outputs": [],
   "source": [
    "session_id = random.randint(0, 10000)\n",
    "xt_trader = MyXtQuantTrader(session_id)\n",
    "callback = MyXtQuantTraderCallback()\n",
    "xt_trader.register_callback(callback)\n",
    "acc = StockAccount('140080060269','CREDIT')"
   ]
  },
  {
   "cell_type": "markdown",
   "id": "a2244454-4f66-4803-aa90-da30b4cd6517",
   "metadata": {
    "execution": {
     "iopub.execute_input": "2023-05-13T11:28:29.698780Z",
     "iopub.status.busy": "2023-05-13T11:28:29.698780Z",
     "iopub.status.idle": "2023-05-13T11:28:29.704805Z",
     "shell.execute_reply": "2023-05-13T11:28:29.704299Z",
     "shell.execute_reply.started": "2023-05-13T11:28:29.698780Z"
    },
    "tags": []
   },
   "source": [
    "### Start Trade thead."
   ]
  },
  {
   "cell_type": "code",
   "execution_count": 3,
   "id": "455c52e5-9c3e-405a-96a5-a9ab1e847d24",
   "metadata": {
    "execution": {
     "iopub.execute_input": "2023-05-13T13:16:48.059038Z",
     "iopub.status.busy": "2023-05-13T13:16:48.059038Z",
     "iopub.status.idle": "2023-05-13T13:16:48.167185Z",
     "shell.execute_reply": "2023-05-13T13:16:48.165255Z",
     "shell.execute_reply.started": "2023-05-13T13:16:48.059038Z"
    },
    "tags": []
   },
   "outputs": [
    {
     "name": "stdout",
     "output_type": "stream",
     "text": [
      "========================================\n",
      "账号订阅:0\n"
     ]
    }
   ],
   "source": [
    "xt_trader.start()\n",
    "connect_result = xt_trader.connect()\n",
    "if connect_result != 0:\n",
    "    import sys\n",
    "    sys.exit('链接失败，程序即将退出 %d'%connect_result)\n",
    "status = xt_trader.subscribe(acc)\n",
    "print(\"=\" * 40)\n",
    "print(f\"账号订阅:{status}\")\n",
    "# 反订阅账号信息\n",
    "# status = xt_trader.unsubscribe(acc)\n",
    "# print(f\"账号反订阅:{status}\")\n",
    "get_account_status(xt_trader, syncFlag=False)"
   ]
  },
  {
   "cell_type": "code",
   "execution_count": 4,
   "id": "b3db5acf-27c7-4302-ab95-47f3f654c129",
   "metadata": {
    "execution": {
     "iopub.execute_input": "2023-05-13T13:16:48.168201Z",
     "iopub.status.busy": "2023-05-13T13:16:48.168201Z",
     "iopub.status.idle": "2023-05-13T13:16:48.184258Z",
     "shell.execute_reply": "2023-05-13T13:16:48.181009Z",
     "shell.execute_reply.started": "2023-05-13T13:16:48.168201Z"
    },
    "tags": []
   },
   "outputs": [
    {
     "name": "stdout",
     "output_type": "stream",
     "text": [
      "[]\n",
      "140080060269 CREDIT_ACCOUNT ACCOUNT_STATUS_OK\n",
      "140000060269 SECURITY_ACCOUNT ACCOUNT_STATUS_OK\n"
     ]
    }
   ],
   "source": [
    "ret=get_trade_times('SH')\n",
    "print(ret)"
   ]
  },
  {
   "cell_type": "markdown",
   "id": "852243f6-4749-4074-81ad-075cf3ac15da",
   "metadata": {
    "tags": []
   },
   "source": [
    "### Subscribe/Unsubsribe Single Quote."
   ]
  },
  {
   "cell_type": "code",
   "execution_count": 5,
   "id": "d989cbcb-deae-49d5-9ba4-8673e1dd4cf5",
   "metadata": {
    "execution": {
     "iopub.execute_input": "2023-05-13T13:16:48.185254Z",
     "iopub.status.busy": "2023-05-13T13:16:48.184258Z",
     "iopub.status.idle": "2023-05-13T13:16:48.289417Z",
     "shell.execute_reply": "2023-05-13T13:16:48.288913Z",
     "shell.execute_reply.started": "2023-05-13T13:16:48.185254Z"
    },
    "tags": []
   },
   "outputs": [
    {
     "name": "stdout",
     "output_type": "stream",
     "text": [
      "订阅510350.SH成功。\n",
      "订阅510330.SH成功。\n"
     ]
    }
   ],
   "source": [
    "symbols=['510350.SH','510330.SH']\n",
    "for stock_code in symbols:\n",
    "    seq=subscribe_quote(stock_code, period='1m', start_time='', end_time='', count=0, callback=on_data)\n",
    "    if seq>0:\n",
    "        print(f\"订阅{stock_code}成功。\")\n",
    "    else:\n",
    "        print(f\"订阅{stock_code}失败。seq:{seq}\")\n",
    "unsubscribe_quote(seq)"
   ]
  },
  {
   "cell_type": "markdown",
   "id": "5dfce81d-2e57-4850-91d0-aaeac0315e1b",
   "metadata": {
    "tags": []
   },
   "source": [
    "### Query Order, Trade, Asset, Positions, Credit Account,Compacts"
   ]
  },
  {
   "cell_type": "code",
   "execution_count": 6,
   "id": "af9bd61b-9708-41a8-90d2-df39c14746f5",
   "metadata": {
    "execution": {
     "iopub.execute_input": "2023-05-13T13:16:48.290436Z",
     "iopub.status.busy": "2023-05-13T13:16:48.290436Z",
     "iopub.status.idle": "2023-05-13T13:16:48.489658Z",
     "shell.execute_reply": "2023-05-13T13:16:48.489658Z",
     "shell.execute_reply.started": "2023-05-13T13:16:48.290436Z"
    },
    "tags": []
   },
   "outputs": [
    {
     "data": {
      "text/html": [
       "<div>\n",
       "<style scoped>\n",
       "    .dataframe tbody tr th:only-of-type {\n",
       "        vertical-align: middle;\n",
       "    }\n",
       "\n",
       "    .dataframe tbody tr th {\n",
       "        vertical-align: top;\n",
       "    }\n",
       "\n",
       "    .dataframe thead th {\n",
       "        text-align: right;\n",
       "    }\n",
       "</style>\n",
       "<table border=\"1\" class=\"dataframe\">\n",
       "  <thead>\n",
       "    <tr style=\"text-align: right;\">\n",
       "      <th></th>\n",
       "      <th>订单编号</th>\n",
       "      <th>合同编号</th>\n",
       "      <th>证券代码</th>\n",
       "      <th>委托价格</th>\n",
       "      <th>成交价格</th>\n",
       "      <th>委托时间</th>\n",
       "      <th>委托状态</th>\n",
       "      <th>委托量</th>\n",
       "      <th>成交数量</th>\n",
       "      <th>已撤数量</th>\n",
       "    </tr>\n",
       "  </thead>\n",
       "  <tbody>\n",
       "    <tr>\n",
       "      <th>0</th>\n",
       "      <td>1209008131</td>\n",
       "      <td>106</td>\n",
       "      <td>510330.SH</td>\n",
       "      <td>3.934</td>\n",
       "      <td>0.0</td>\n",
       "      <td>2023-05-12 02:08:52</td>\n",
       "      <td>ORDER_UNREPORTED</td>\n",
       "      <td>100</td>\n",
       "      <td>0</td>\n",
       "      <td>100</td>\n",
       "    </tr>\n",
       "    <tr>\n",
       "      <th>1</th>\n",
       "      <td>1209008133</td>\n",
       "      <td>107</td>\n",
       "      <td>510350.SH</td>\n",
       "      <td>4.139</td>\n",
       "      <td>0.0</td>\n",
       "      <td>2023-05-12 02:24:41</td>\n",
       "      <td>ORDER_CANCELED</td>\n",
       "      <td>100</td>\n",
       "      <td>0</td>\n",
       "      <td>100</td>\n",
       "    </tr>\n",
       "    <tr>\n",
       "      <th>2</th>\n",
       "      <td>1209008134</td>\n",
       "      <td>108</td>\n",
       "      <td>510330.SH</td>\n",
       "      <td>3.934</td>\n",
       "      <td>0.0</td>\n",
       "      <td>2023-05-12 02:24:41</td>\n",
       "      <td>ORDER_CANCELED</td>\n",
       "      <td>100</td>\n",
       "      <td>0</td>\n",
       "      <td>100</td>\n",
       "    </tr>\n",
       "    <tr>\n",
       "      <th>3</th>\n",
       "      <td>1209008129</td>\n",
       "      <td>94</td>\n",
       "      <td>510330.SH</td>\n",
       "      <td>3.934</td>\n",
       "      <td>0.0</td>\n",
       "      <td>2023-05-12 01:43:28</td>\n",
       "      <td>ORDER_CANCELED</td>\n",
       "      <td>200</td>\n",
       "      <td>0</td>\n",
       "      <td>200</td>\n",
       "    </tr>\n",
       "    <tr>\n",
       "      <th>4</th>\n",
       "      <td>1209008130</td>\n",
       "      <td>96</td>\n",
       "      <td>510330.SH</td>\n",
       "      <td>3.934</td>\n",
       "      <td>0.0</td>\n",
       "      <td>2023-05-12 01:54:49</td>\n",
       "      <td>ORDER_CANCELED</td>\n",
       "      <td>100</td>\n",
       "      <td>0</td>\n",
       "      <td>100</td>\n",
       "    </tr>\n",
       "  </tbody>\n",
       "</table>\n",
       "</div>"
      ],
      "text/plain": [
       "         订单编号 合同编号       证券代码   委托价格  成交价格                委托时间  \\\n",
       "0  1209008131  106  510330.SH  3.934   0.0 2023-05-12 02:08:52   \n",
       "1  1209008133  107  510350.SH  4.139   0.0 2023-05-12 02:24:41   \n",
       "2  1209008134  108  510330.SH  3.934   0.0 2023-05-12 02:24:41   \n",
       "3  1209008129   94  510330.SH  3.934   0.0 2023-05-12 01:43:28   \n",
       "4  1209008130   96  510330.SH  3.934   0.0 2023-05-12 01:54:49   \n",
       "\n",
       "               委托状态  委托量  成交数量  已撤数量  \n",
       "0  ORDER_UNREPORTED  100     0   100  \n",
       "1    ORDER_CANCELED  100     0   100  \n",
       "2    ORDER_CANCELED  100     0   100  \n",
       "3    ORDER_CANCELED  200     0   200  \n",
       "4    ORDER_CANCELED  100     0   100  "
      ]
     },
     "metadata": {},
     "output_type": "display_data"
    },
    {
     "data": {
      "text/html": [
       "<div>\n",
       "<style scoped>\n",
       "    .dataframe tbody tr th:only-of-type {\n",
       "        vertical-align: middle;\n",
       "    }\n",
       "\n",
       "    .dataframe tbody tr th {\n",
       "        vertical-align: top;\n",
       "    }\n",
       "\n",
       "    .dataframe thead th {\n",
       "        text-align: right;\n",
       "    }\n",
       "</style>\n",
       "<table border=\"1\" class=\"dataframe\">\n",
       "  <thead>\n",
       "    <tr style=\"text-align: right;\">\n",
       "      <th></th>\n",
       "      <th>账号类型</th>\n",
       "      <th>资金账号</th>\n",
       "      <th>可用金额</th>\n",
       "      <th>冻结金额</th>\n",
       "      <th>持仓市值</th>\n",
       "      <th>总资产</th>\n",
       "    </tr>\n",
       "  </thead>\n",
       "  <tbody>\n",
       "    <tr>\n",
       "      <th>0</th>\n",
       "      <td>3</td>\n",
       "      <td>140080060269</td>\n",
       "      <td>5517.72</td>\n",
       "      <td>0.0</td>\n",
       "      <td>617.6</td>\n",
       "      <td>6535.72</td>\n",
       "    </tr>\n",
       "  </tbody>\n",
       "</table>\n",
       "</div>"
      ],
      "text/plain": [
       "   账号类型          资金账号     可用金额  冻结金额   持仓市值      总资产\n",
       "0     3  140080060269  5517.72   0.0  617.6  6535.72"
      ]
     },
     "metadata": {},
     "output_type": "display_data"
    },
    {
     "data": {
      "text/html": [
       "<div>\n",
       "<style scoped>\n",
       "    .dataframe tbody tr th:only-of-type {\n",
       "        vertical-align: middle;\n",
       "    }\n",
       "\n",
       "    .dataframe tbody tr th {\n",
       "        vertical-align: top;\n",
       "    }\n",
       "\n",
       "    .dataframe thead th {\n",
       "        text-align: right;\n",
       "    }\n",
       "</style>\n",
       "<table border=\"1\" class=\"dataframe\">\n",
       "  <thead>\n",
       "    <tr style=\"text-align: right;\">\n",
       "      <th></th>\n",
       "      <th>账号类型</th>\n",
       "      <th>资金账号</th>\n",
       "      <th>证券代码</th>\n",
       "      <th>持仓数量</th>\n",
       "      <th>可用数量</th>\n",
       "      <th>平均建仓成本</th>\n",
       "      <th>市值</th>\n",
       "    </tr>\n",
       "  </thead>\n",
       "  <tbody>\n",
       "    <tr>\n",
       "      <th>0</th>\n",
       "      <td>3</td>\n",
       "      <td>140080060269</td>\n",
       "      <td>510330.SH</td>\n",
       "      <td>100</td>\n",
       "      <td>100</td>\n",
       "      <td>4.0100</td>\n",
       "      <td>393.4</td>\n",
       "    </tr>\n",
       "    <tr>\n",
       "      <th>1</th>\n",
       "      <td>3</td>\n",
       "      <td>140080060269</td>\n",
       "      <td>512800.SH</td>\n",
       "      <td>200</td>\n",
       "      <td>200</td>\n",
       "      <td>1.0855</td>\n",
       "      <td>224.2</td>\n",
       "    </tr>\n",
       "  </tbody>\n",
       "</table>\n",
       "</div>"
      ],
      "text/plain": [
       "   账号类型          资金账号       证券代码  持仓数量  可用数量  平均建仓成本     市值\n",
       "0     3  140080060269  510330.SH   100   100  4.0100  393.4\n",
       "1     3  140080060269  512800.SH   200   200  1.0855  224.2"
      ]
     },
     "metadata": {},
     "output_type": "display_data"
    },
    {
     "data": {
      "text/html": [
       "<div>\n",
       "<style scoped>\n",
       "    .dataframe tbody tr th:only-of-type {\n",
       "        vertical-align: middle;\n",
       "    }\n",
       "\n",
       "    .dataframe tbody tr th {\n",
       "        vertical-align: top;\n",
       "    }\n",
       "\n",
       "    .dataframe thead th {\n",
       "        text-align: right;\n",
       "    }\n",
       "</style>\n",
       "<table border=\"1\" class=\"dataframe\">\n",
       "  <thead>\n",
       "    <tr style=\"text-align: right;\">\n",
       "      <th></th>\n",
       "      <th>账号类型</th>\n",
       "      <th>资金账号</th>\n",
       "      <th>账号状态</th>\n",
       "      <th>更新时间</th>\n",
       "      <th>计算参数</th>\n",
       "      <th>冻结金额</th>\n",
       "      <th>总资产</th>\n",
       "      <th>可用金额</th>\n",
       "      <th>持仓盈亏</th>\n",
       "      <th>总市值</th>\n",
       "      <th>...</th>\n",
       "      <th>其它费用</th>\n",
       "      <th>融资授信额度</th>\n",
       "      <th>融资可用额度</th>\n",
       "      <th>融资冻结额度</th>\n",
       "      <th>融券授信额度</th>\n",
       "      <th>融券可用额度</th>\n",
       "      <th>融券冻结额度</th>\n",
       "      <th>融券卖出资金</th>\n",
       "      <th>已用融券卖出资金</th>\n",
       "      <th>剩余融券卖出资金</th>\n",
       "    </tr>\n",
       "  </thead>\n",
       "  <tbody>\n",
       "    <tr>\n",
       "      <th>0</th>\n",
       "      <td>3</td>\n",
       "      <td>140080060269</td>\n",
       "      <td>0</td>\n",
       "      <td>1683820800</td>\n",
       "      <td>0</td>\n",
       "      <td>0.0</td>\n",
       "      <td>6535.72</td>\n",
       "      <td>5517.72</td>\n",
       "      <td>-0.5</td>\n",
       "      <td>617.6</td>\n",
       "      <td>...</td>\n",
       "      <td>0.0</td>\n",
       "      <td>1000000.0</td>\n",
       "      <td>999091.8</td>\n",
       "      <td>393.5</td>\n",
       "      <td>1000000.0</td>\n",
       "      <td>999091.8</td>\n",
       "      <td>0.0</td>\n",
       "      <td>400.4</td>\n",
       "      <td>0.0</td>\n",
       "      <td>400.4</td>\n",
       "    </tr>\n",
       "  </tbody>\n",
       "</table>\n",
       "<p>1 rows × 33 columns</p>\n",
       "</div>"
      ],
      "text/plain": [
       "   账号类型          资金账号  账号状态        更新时间  计算参数  冻结金额      总资产     可用金额  持仓盈亏  \\\n",
       "0     3  140080060269     0  1683820800     0   0.0  6535.72  5517.72  -0.5   \n",
       "\n",
       "     总市值  ...  其它费用     融资授信额度    融资可用额度  融资冻结额度     融券授信额度    融券可用额度  融券冻结额度  \\\n",
       "0  617.6  ...   0.0  1000000.0  999091.8   393.5  1000000.0  999091.8     0.0   \n",
       "\n",
       "   融券卖出资金  已用融券卖出资金  剩余融券卖出资金  \n",
       "0   400.4       0.0     400.4  \n",
       "\n",
       "[1 rows x 33 columns]"
      ]
     },
     "metadata": {},
     "output_type": "display_data"
    },
    {
     "data": {
      "text/html": [
       "<div>\n",
       "<style scoped>\n",
       "    .dataframe tbody tr th:only-of-type {\n",
       "        vertical-align: middle;\n",
       "    }\n",
       "\n",
       "    .dataframe tbody tr th {\n",
       "        vertical-align: top;\n",
       "    }\n",
       "\n",
       "    .dataframe thead th {\n",
       "        text-align: right;\n",
       "    }\n",
       "</style>\n",
       "<table border=\"1\" class=\"dataframe\">\n",
       "  <thead>\n",
       "    <tr style=\"text-align: right;\">\n",
       "      <th></th>\n",
       "      <th>账号类型</th>\n",
       "      <th>资金账号</th>\n",
       "      <th>合约类型</th>\n",
       "      <th>头寸来源</th>\n",
       "      <th>证券市场</th>\n",
       "      <th>开仓日期</th>\n",
       "      <th>合约证券数量</th>\n",
       "      <th>未还合约数量</th>\n",
       "      <th>到期日</th>\n",
       "      <th>合约金额</th>\n",
       "      <th>合约息费</th>\n",
       "      <th>未还合约金额</th>\n",
       "      <th>未还合约息费</th>\n",
       "      <th>已还息费</th>\n",
       "      <th>已还金额</th>\n",
       "      <th>证券代码</th>\n",
       "      <th>合约编号</th>\n",
       "      <th>定位串</th>\n",
       "    </tr>\n",
       "  </thead>\n",
       "  <tbody>\n",
       "    <tr>\n",
       "      <th>0</th>\n",
       "      <td>3</td>\n",
       "      <td>140080060269</td>\n",
       "      <td>融券</td>\n",
       "      <td>48</td>\n",
       "      <td>0</td>\n",
       "      <td>20230511</td>\n",
       "      <td>100</td>\n",
       "      <td>100</td>\n",
       "      <td>20231110</td>\n",
       "      <td>400.5</td>\n",
       "      <td>0.3</td>\n",
       "      <td>0.3</td>\n",
       "      <td>0.3</td>\n",
       "      <td>0.0</td>\n",
       "      <td>0.0</td>\n",
       "      <td>510330.SH</td>\n",
       "      <td>4172</td>\n",
       "      <td>20230511|00004172</td>\n",
       "    </tr>\n",
       "    <tr>\n",
       "      <th>1</th>\n",
       "      <td>3</td>\n",
       "      <td>140080060269</td>\n",
       "      <td>融资</td>\n",
       "      <td>48</td>\n",
       "      <td>0</td>\n",
       "      <td>20230510</td>\n",
       "      <td>100</td>\n",
       "      <td>0</td>\n",
       "      <td>20231109</td>\n",
       "      <td>114.1</td>\n",
       "      <td>0.1</td>\n",
       "      <td>114.2</td>\n",
       "      <td>0.1</td>\n",
       "      <td>0.0</td>\n",
       "      <td>0.0</td>\n",
       "      <td>512800.SH</td>\n",
       "      <td>4593</td>\n",
       "      <td>20230510|00004593</td>\n",
       "    </tr>\n",
       "  </tbody>\n",
       "</table>\n",
       "</div>"
      ],
      "text/plain": [
       "   账号类型          资金账号 合约类型  头寸来源  证券市场      开仓日期  合约证券数量  未还合约数量       到期日  \\\n",
       "0     3  140080060269   融券    48     0  20230511     100     100  20231110   \n",
       "1     3  140080060269   融资    48     0  20230510     100       0  20231109   \n",
       "\n",
       "    合约金额  合约息费  未还合约金额  未还合约息费  已还息费  已还金额       证券代码  合约编号                定位串  \n",
       "0  400.5   0.3     0.3     0.3   0.0   0.0  510330.SH  4172  20230511|00004172  \n",
       "1  114.1   0.1   114.2     0.1   0.0   0.0  512800.SH  4593  20230510|00004593  "
      ]
     },
     "metadata": {},
     "output_type": "display_data"
    }
   ],
   "source": [
    "\"\"\"ORDER\"\"\"\n",
    "orders  = xt_trader.query_stock_orders(acc,  cancelable_only = False)\n",
    "if orders :\n",
    "    order_details=get_order_details(orders)\n",
    "    display(order_details)\n",
    "\"\"\"TRADE\"\"\"\n",
    "trades = xt_trader.query_stock_trades(acc)\n",
    "if trades:\n",
    "    trade_details=get_trade_details(trades)\n",
    "    display(trade_details)\n",
    "\"\"\"ASSET\"\"\"\n",
    "assets = xt_trader.query_stock_asset(acc)\n",
    "if assets:\n",
    "    asset_detail=get_asset_details(assets)\n",
    "    display(asset_detail)\n",
    "\"\"\"POSITIONS\"\"\"\n",
    "positions = xt_trader.query_stock_positions(acc)\n",
    "if len(positions) != 0:\n",
    "    position_details=get_position_details(positions)\n",
    "    display(position_details)\n",
    "\"\"\"CREDIT ACCOUNT\"\"\"\n",
    "credit_account = xt_trader.query_credit_detail(acc)\n",
    "if credit_account:\n",
    "    credit_account_details=get_credit_account_details(credit_account)\n",
    "    display(credit_account_details)\n",
    "\"\"\"COMPACTS\"\"\"    \n",
    "compacts = xt_trader.query_stk_compacts(acc)\n",
    "if compacts:\n",
    "    compact_details=get_compact_details(compacts)\n",
    "    display(compact_details)"
   ]
  },
  {
   "cell_type": "markdown",
   "id": "4dfd9a7e-c0c3-4c23-97c8-e6fbf9053f14",
   "metadata": {
    "jp-MarkdownHeadingCollapsed": true,
    "tags": []
   },
   "source": [
    "### Buy Portfolio\n",
    "left symbol for long, right symbol for short."
   ]
  },
  {
   "cell_type": "raw",
   "id": "1cf9509c-c311-4e1f-a78e-4635c638422b",
   "metadata": {},
   "source": [
    "\"\"\"购买 portfolio\"\"\"\n",
    "capital=10000\n",
    "symbols=['510350.SH','510330.SH']\n",
    "hedge_ratio=[1, -1.1] # for test only.\n",
    "order_id=long_portfolio(xt_trader,acc,symbols,hedge_ratio,captital,syncFlag=True)"
   ]
  },
  {
   "cell_type": "markdown",
   "id": "97f6094f-f629-4ce7-a230-324d12ad80ac",
   "metadata": {
    "jp-MarkdownHeadingCollapsed": true,
    "tags": []
   },
   "source": [
    "### Short Portfolio"
   ]
  },
  {
   "cell_type": "markdown",
   "id": "5359456a-a295-4105-8628-54f65d9542f2",
   "metadata": {},
   "source": [
    "\"\"\"卖出 portfolio\"\"\"\n",
    "order_id=short_portfolio(xt_trader,acc,symbols,hedge_ratio,captital,syncFlag=True)"
   ]
  },
  {
   "cell_type": "markdown",
   "id": "1cbcafd5-8160-4a0a-8c5d-bf43aa1c54f2",
   "metadata": {
    "jp-MarkdownHeadingCollapsed": true,
    "tags": []
   },
   "source": [
    "### Cancel Orders with ORDER IDs"
   ]
  },
  {
   "cell_type": "markdown",
   "id": "12cd3c47-0155-4e84-8491-4def3994a35c",
   "metadata": {},
   "source": [
    "\"\"\"Cancel Orders\"\"\"\n",
    "order_ids=[1209008133,1209008134]\n",
    "for order in order_ids:\n",
    "    cancel_result = xt_trader.cancel_order_stock(acc, order)\n",
    "    if cancel_result == -1:\n",
    "        print(\"Failed to cancel order.\")\n",
    "    else:\n",
    "        print(\"Cancel order sucessfully.\")"
   ]
  },
  {
   "cell_type": "markdown",
   "id": "09bb38db-feb4-4745-8569-8e57bda8e9a9",
   "metadata": {},
   "source": [
    "### 阻塞线程，接收交易推送"
   ]
  },
  {
   "cell_type": "code",
   "execution_count": 7,
   "id": "c76d2ce1-dda8-40aa-b2b9-f8032d3528d9",
   "metadata": {
    "execution": {
     "iopub.execute_input": "2023-05-13T13:16:48.490658Z",
     "iopub.status.busy": "2023-05-13T13:16:48.490658Z",
     "iopub.status.idle": "2023-05-13T13:16:48.506706Z",
     "shell.execute_reply": "2023-05-13T13:16:48.505698Z",
     "shell.execute_reply.started": "2023-05-13T13:16:48.490658Z"
    },
    "tags": []
   },
   "outputs": [],
   "source": [
    "# xt_trader.run_forever()"
   ]
  },
  {
   "cell_type": "code",
   "execution_count": 8,
   "id": "47a70788-8334-44bc-b34d-3012d0f4ac89",
   "metadata": {
    "execution": {
     "iopub.execute_input": "2023-05-13T13:16:48.507710Z",
     "iopub.status.busy": "2023-05-13T13:16:48.507710Z",
     "iopub.status.idle": "2023-05-13T13:16:48.536517Z",
     "shell.execute_reply": "2023-05-13T13:16:48.536517Z",
     "shell.execute_reply.started": "2023-05-13T13:16:48.507710Z"
    },
    "tags": []
   },
   "outputs": [],
   "source": [
    "xt_trader.stop()"
   ]
  },
  {
   "cell_type": "code",
   "execution_count": null,
   "id": "908500e9-0e35-4b42-ad36-9775d5397963",
   "metadata": {},
   "outputs": [],
   "source": []
  }
 ],
 "metadata": {
  "kernelspec": {
   "display_name": "Python 3 (ipykernel)",
   "language": "python",
   "name": "python3"
  },
  "language_info": {
   "codemirror_mode": {
    "name": "ipython",
    "version": 3
   },
   "file_extension": ".py",
   "mimetype": "text/x-python",
   "name": "python",
   "nbconvert_exporter": "python",
   "pygments_lexer": "ipython3",
   "version": "3.10.9"
  }
 },
 "nbformat": 4,
 "nbformat_minor": 5
}